{
 "cells": [
  {
   "cell_type": "code",
   "execution_count": 2,
   "id": "decent-values",
   "metadata": {},
   "outputs": [],
   "source": [
    "import seaborn as sns\n",
    "import matplotlib.pyplot as plt\n",
    "import pandas as pd\n",
    "import warnings\n",
    "warnings.filterwarnings('ignore')\n",
    "import numpy as np\n",
    "from sklearn.model_selection import train_test_split\n",
    "from sklearn.model_selection import GridSearchCV"
   ]
  },
  {
   "cell_type": "markdown",
   "id": "incredible-howard",
   "metadata": {},
   "source": [
    "# Let's get a quick statistical overview of the data"
   ]
  },
  {
   "cell_type": "code",
   "execution_count": 3,
   "id": "understanding-turner",
   "metadata": {},
   "outputs": [
    {
     "name": "stdout",
     "output_type": "stream",
     "text": [
      "Index(['trending_date', 'title', 'channel_title', 'category_id',\n",
      "       'publish_time', 'tags', 'views', 'likes', 'dislikes', 'comment_count',\n",
      "       'comments_disabled', 'ratings_disabled', 'video_error_or_removed',\n",
      "       'description'],\n",
      "      dtype='object')\n",
      "\n",
      "\n",
      "\n",
      "        category_id         views         likes      dislikes  comment_count\n",
      "count  38304.000000  3.830400e+04  3.830400e+04  3.830400e+04   3.830400e+04\n",
      "mean      16.762897  5.970073e+06  1.356768e+05  7.118519e+03   1.270974e+04\n",
      "std        7.748428  1.913231e+07  3.516164e+05  4.074884e+04   4.378922e+04\n",
      "min        1.000000  8.510000e+02  0.000000e+00  0.000000e+00   0.000000e+00\n",
      "25%       10.000000  2.549208e+05  6.042000e+03  2.040000e+02   6.880000e+02\n",
      "50%       20.000000  9.969100e+05  2.557400e+04  8.270000e+02   2.509000e+03\n",
      "75%       24.000000  3.727766e+06  1.158855e+05  3.409250e+03   9.304000e+03\n",
      "max       43.000000  4.245389e+08  5.613827e+06  1.753274e+06   1.228655e+06\n"
     ]
    }
   ],
   "source": [
    "df = pd.read_csv('GBvideos.csv')\n",
    "df = df.dropna(how='any', axis=0)\n",
    "df.drop(['video_id','thumbnail_link'],axis=1,inplace=True)\n",
    "print(df.columns)\n",
    "print(\"\\n\\n\")\n",
    "print(df.describe())"
   ]
  },
  {
   "cell_type": "markdown",
   "id": "three-immunology",
   "metadata": {},
   "source": [
    "From the overview above, we can see that:\n",
    "1. Average views for a trending video is almost 6,000,000\n",
    "2. Average likes for a trending video is around 135,000\n",
    "3. Average dislikes for a trending video is 7,000... Quite low considering the average views\n",
    "4. Average comment count for a trending video is 12,700\n",
    "5. The least viewed trending video recieved 851 views... This means that even small channels can make the trending list! Or it could be low because the views for this video were counted right when the video was released.\n",
    "6. The median views are around 1,000,000 which is much lower than the mean... This suggests it is positively or right-skewed\n",
    "\n",
    "\n",
    "The highest amount of views for a trending video in this data set is 424,000,000 views! This is most likely a music video\n",
    "\n",
    "\n",
    "Let's now perform some feature engineering on the data to accurately predict likes, comments, and views"
   ]
  },
  {
   "cell_type": "markdown",
   "id": "differential-metabolism",
   "metadata": {},
   "source": [
    "The first features we'll obtain are description length and title length - We can presume that a video title length has some relation to the views and thus the likes and comments. People are more likely to click on videos with shorter titles"
   ]
  },
  {
   "cell_type": "code",
   "execution_count": 10,
   "id": "solid-applicant",
   "metadata": {},
   "outputs": [],
   "source": [
    "tags=[x.count(\"|\")+1 for x in df[\"tags\"]]\n",
    "df[\"no_of_tags\"]=tags\n",
    "df['desc_len']=[len(x) for x in df['description']]\n",
    "df['title_len'] = [len(x) for x in df['title']]"
   ]
  },
  {
   "cell_type": "markdown",
   "id": "associate-comedy",
   "metadata": {},
   "source": [
    "##   Grouping by channels that appear in trending most often and assigning a 0 or 1 based on if it appears"
   ]
  },
  {
   "cell_type": "code",
   "execution_count": 12,
   "id": "missing-restoration",
   "metadata": {},
   "outputs": [
    {
     "name": "stdout",
     "output_type": "stream",
     "text": [
      "['1theK (원더케이)', '20th Century Fox', 'Atlantic Records', 'BBC Radio 1', 'Bhad Bhabie', 'Breakfast Club Power 105.1 FM', 'CNN', 'ChainsmokersVEVO', 'Charlie Puth', 'ESPN', 'EminemVEVO', 'Fleur DeForce', 'HBO', 'HOT 97', 'JamesBayVEVO', 'Jimmy Kimmel Live', 'Late Night with Seth Meyers', 'Marvel Entertainment', 'MigosVEVO', 'Mnet K-POP', 'Movieclips Trailers', 'Netflix', 'PewDiePie', 'RedLetterMedia', 'SMTOWN', 'SZAVEVO', 'Saturday Night Live', 'Screen Junkies', 'Sony Pictures Entertainment', 'Star Wars', 'TMZSports', 'The Late Late Show with James Corden', 'The Late Show with Stephen Colbert', 'The Tonight Show Starring Jimmy Fallon', 'The Voice', 'TheEllenShow', 'Vogue', 'WIRED', 'WORLDSTARHIPHOP', 'WWE', 'Warner Bros. Pictures', 'Will Smith', 'ibighit', 'jypentertainment']\n",
      "0        0\n",
      "1        1\n",
      "2        1\n",
      "3        0\n",
      "4        0\n",
      "        ..\n",
      "38911    0\n",
      "38912    0\n",
      "38913    0\n",
      "38914    0\n",
      "38915    0\n",
      "Name: is_trending_channel, Length: 38304, dtype: int64\n",
      "0    31889\n",
      "1     6415\n",
      "Name: is_trending_channel, dtype: int64\n"
     ]
    }
   ],
   "source": [
    "channels = df.groupby('channel_title').count()\n",
    "trending_channels = channels[channels['title']>=100].index\n",
    "trending_channels_list = trending_channels.tolist()\n",
    "print(trending_channels_list)\n",
    "df['is_trending_channel'] = df['channel_title'].isin(trending_channels_list).astype(int)\n",
    "print(df['is_trending_channel'])\n",
    "print(df['is_trending_channel'].value_counts())"
   ]
  },
  {
   "cell_type": "markdown",
   "id": "drawn-trinidad",
   "metadata": {},
   "source": [
    "We can now see that there are over 6,400 channels that appear 100 or more times,  some of these channels are HBO, Warner Brothers, 20th Century Fox, Netflix etc."
   ]
  },
  {
   "cell_type": "markdown",
   "id": "three-possible",
   "metadata": {},
   "source": [
    "##   Grouping by channels that recieve the highest average views and assigning 0 or 1"
   ]
  },
  {
   "cell_type": "code",
   "execution_count": 6,
   "id": "massive-modeling",
   "metadata": {},
   "outputs": [],
   "source": [
    "top_viewed = df.groupby('channel_title')['views'].mean()\n",
    "top_viewed = top_viewed.sort_values(ascending=False)\n",
    "top_viewed = top_viewed.head(30).index.tolist()\n",
    "df['is_top_viewed_channel'] = df['channel_title'].isin(top_viewed).astype(int)"
   ]
  },
  {
   "cell_type": "markdown",
   "id": "residential-stopping",
   "metadata": {},
   "source": [
    "##   Grouping by channels that recieve the highest average likes"
   ]
  },
  {
   "cell_type": "code",
   "execution_count": 7,
   "id": "crucial-mobility",
   "metadata": {},
   "outputs": [],
   "source": [
    "top_liked = df.groupby('channel_title')['likes'].mean()\n",
    "top_liked = top_liked.sort_values(ascending=False)\n",
    "top_liked = top_liked.head(30).index.tolist()\n",
    "df['is_top_liked_channel'] = df['channel_title'].isin(top_liked).astype(int)"
   ]
  },
  {
   "cell_type": "markdown",
   "id": "simple-disaster",
   "metadata": {},
   "source": [
    "##   Grouping by channels that recieve the highest average comments\n"
   ]
  },
  {
   "cell_type": "code",
   "execution_count": 11,
   "id": "backed-equivalent",
   "metadata": {},
   "outputs": [],
   "source": [
    "top_commented = df.groupby('channel_title')['comment_count'].mean()\n",
    "top_commented = top_commented.sort_values(ascending=False)\n",
    "top_commented = top_commented.head(20).index.tolist()\n",
    "df['is_top_commented_channel'] = df['channel_title'].isin(top_liked).astype(int)"
   ]
  },
  {
   "cell_type": "code",
   "execution_count": 12,
   "id": "blessed-farmer",
   "metadata": {},
   "outputs": [],
   "source": [
    "df[\"Ratio_View_likes\"]=round(df[\"views\"]/df[\"likes\"],3)\n",
    "df[\"Ratio_View_dislikes\"]=round(df[\"views\"]/df[\"dislikes\"],3)\n",
    "df[\"Ratio_views_comment_count\"]=round(df[\"views\"]/df[\"comment_count\"],3)\n",
    "df[\"Ratio_likes_dislikes\"]=round(df[\"likes\"]/df[\"dislikes\"],3)\n",
    "df[\"Ratio_likes_comments\"]=round(df[\"likes\"]/df[\"comment_count\"],3)"
   ]
  },
  {
   "cell_type": "code",
   "execution_count": 13,
   "id": "young-physics",
   "metadata": {},
   "outputs": [],
   "source": [
    "publish_time = pd.to_datetime(df['publish_time'], format='%Y-%m-%dT%H:%M:%S.%fZ')\n",
    "df['publish_time'] = publish_time.dt.time\n",
    "df['publish_date'] = publish_time.dt.date\n",
    "df['publish_weekday']=publish_time.dt.day_name()  # day of the week"
   ]
  },
  {
   "cell_type": "markdown",
   "id": "dying-leone",
   "metadata": {},
   "source": [
    "##  Remove infinite values and add a publish weekday column"
   ]
  },
  {
   "cell_type": "code",
   "execution_count": 14,
   "id": "starting-electric",
   "metadata": {},
   "outputs": [],
   "source": [
    "#   Remove infinite values and change weekday\n",
    "df = df.replace([np.inf, -np.inf], np.nan)\n",
    "df = df.dropna(how='any',axis=0)\n",
    "df['publish_weekday'] = df['publish_weekday'].replace({'Monday':1,\n",
    "    'Tuesday':2,\n",
    "    'Wednesday':3,\n",
    "    'Thursday':4,\n",
    "    'Friday':5,\n",
    "    'Saturday':6,\n",
    "    'Sunday':7})"
   ]
  },
  {
   "cell_type": "code",
   "execution_count": 18,
   "id": "visible-twelve",
   "metadata": {},
   "outputs": [
    {
     "data": {
      "image/png": "[encoded data removed]",
      "text/plain": [
       "<Figure size 576x576 with 2 Axes>"
      ]
     },
     "metadata": {
      "needs_background": "light"
     },
     "output_type": "display_data"
    }
   ],
   "source": [
    "data = df\n",
    "corr = data.corr()\n",
    "plt.figure(figsize=(8, 8))\n",
    "ax = sns.heatmap(\n",
    "    corr,\n",
    "    \n",
    ")\n",
    "ax.set_xticklabels(\n",
    "    ax.get_xticklabels(),\n",
    "    rotation=45,\n",
    "    horizontalalignment='right');"
   ]
  },
  {
   "cell_type": "markdown",
   "id": "congressional-station",
   "metadata": {},
   "source": [
    "## Deleting columns that aren't correlated"
   ]
  },
  {
   "cell_type": "code",
   "execution_count": 15,
   "id": "absolute-enemy",
   "metadata": {},
   "outputs": [
    {
     "name": "stdout",
     "output_type": "stream",
     "text": [
      "features:\n",
      " Index(['category_id', 'views', 'likes', 'dislikes', 'comment_count',\n",
      "       'comments_disabled', 'ratings_disabled', 'video_error_or_removed',\n",
      "       'is_top_viewed_channel', 'is_top_liked_channel',\n",
      "       'is_top_commented_channel', 'Ratio_View_likes', 'Ratio_View_dislikes',\n",
      "       'Ratio_views_comment_count', 'Ratio_likes_dislikes',\n",
      "       'Ratio_likes_comments', 'publish_weekday'],\n",
      "      dtype='object')\n"
     ]
    }
   ],
   "source": [
    "df = df.drop(['trending_date','publish_date','publish_time',\n",
    "              'tags','title','description','channel_title'],axis=1,inplace=False)\n",
    "print(\"features:\\n\", df.columns)"
   ]
  },
  {
   "cell_type": "markdown",
   "id": "jewish-relief",
   "metadata": {},
   "source": [
    "## Setting up training and testing data\n",
    "\n",
    "After copious testing, I determined that Extra Trees Regression outperformed Random Forest, Ridge Regression, and a few other models. It was also much quicker than Random Forest and Ridge. So, We'll use Extra Trees Regression through GridSearchCV as the model"
   ]
  },
  {
   "cell_type": "code",
   "execution_count": 16,
   "id": "respected-nicholas",
   "metadata": {},
   "outputs": [],
   "source": [
    "likes = df['likes']\n",
    "df_like=df.drop(['likes'],axis=1,inplace=False)\n",
    "\n",
    "views = df['views']\n",
    "df_views = df.drop(['views', 'Ratio_likes_dislikes'], axis=1, inplace=False)\n",
    "\n",
    "comment_count = df['comment_count']\n",
    "df_comment = df.drop(['comment_count'], axis=1, inplace=False)"
   ]
  },
  {
   "cell_type": "code",
   "execution_count": 17,
   "id": "modern-onion",
   "metadata": {},
   "outputs": [
    {
     "name": "stdout",
     "output_type": "stream",
     "text": [
      "Fitting 3 folds for each of 9 candidates, totalling 27 fits\n",
      "Best HyperParameters:  {'max_depth': 20, 'n_estimators': 130}\n",
      "Hyper Parameter Score 0.9424836098628662\n",
      "Test R^2:  0.9205588982891493\n",
      "       True Label  Predicted Label\n",
      "31087      235811     2.339008e+05\n",
      "31088        4248     4.285592e+03\n",
      "31089       23453     2.299620e+04\n",
      "31090       22649     2.244628e+04\n",
      "31091     1334654     1.317932e+06\n",
      "...           ...              ...\n",
      "38911      268088     2.913708e+05\n",
      "38912       61998     6.865341e+04\n",
      "38913      394830     4.080371e+05\n",
      "38914      151870     1.555732e+05\n",
      "38915       18271     1.890856e+04\n",
      "\n",
      "[7494 rows x 2 columns]\n",
      "Fitting 3 folds for each of 9 candidates, totalling 27 fits\n",
      "Best HyperParameters:  {'max_depth': 25, 'n_estimators': 130}\n",
      "Hyper Parameter Score 0.935711105478715\n",
      "Test R^2:  0.9808498729714691\n",
      "       True Label  Predicted Label\n",
      "31087     7517916     7.499164e+06\n",
      "31088      383380     3.812351e+05\n",
      "31089     1641198     1.614597e+06\n",
      "31090     1058966     1.049478e+06\n",
      "31091    71297588     6.913061e+07\n",
      "...           ...              ...\n",
      "38911    25066952     2.556802e+07\n",
      "38912     1492219     1.537262e+06\n",
      "38913    29641412     2.784538e+07\n",
      "38914    14317515     1.385630e+07\n",
      "38915      607552     6.073055e+05\n",
      "\n",
      "[7494 rows x 2 columns]\n",
      "Fitting 3 folds for each of 9 candidates, totalling 27 fits\n",
      "Best HyperParameters:  {'max_depth': 20, 'n_estimators': 140}\n",
      "Hyper Parameter Score 0.9256620754805475\n",
      "Test R^2:  0.7833910479308551\n",
      "       True Label  Predicted Label\n",
      "31087       12829     12830.958176\n",
      "31088        2177      1919.427044\n",
      "31089        6081      6080.869571\n",
      "31090        1563      1589.719930\n",
      "31091      240808    237593.150000\n",
      "...           ...              ...\n",
      "38911        9933     10420.517827\n",
      "38912       24330     24601.122174\n",
      "38913       19988     20283.141654\n",
      "38914       26766     30441.345733\n",
      "38915        1423      1430.668957\n",
      "\n",
      "[7494 rows x 2 columns]\n"
     ]
    }
   ],
   "source": [
    "from sklearn.ensemble import RandomForestRegressor, ExtraTreesRegressor\n",
    "def ModelTest(attribute_to_predict, test_size):\n",
    "    label = df[attribute_to_predict]\n",
    "    df_features = df.drop([attribute_to_predict], axis=1, inplace=False)\n",
    "    x_train, x_test, y_train, y_test = train_test_split(df_features, label, test_size=test_size, shuffle=False)\n",
    "    N_estimator = [130, 135, 140]\n",
    "    depth = [20, 25, 30]\n",
    "    params = [{'n_estimators': N_estimator, 'max_depth': depth}]\n",
    "    ETR = ExtraTreesRegressor()\n",
    "    csv= GridSearchCV(ETR, params, cv=3, verbose=1, scoring='r2', n_jobs=-1)\n",
    "    csv.fit(x_train, y_train)\n",
    "    print(\"Best HyperParameters: \", csv.best_params_)\n",
    "    print(\"Hyper Parameter Score\", csv.best_score_)\n",
    "    mean_scores = csv.cv_results_['mean_test_score'].reshape(len(N_estimator),len(depth))\n",
    "\n",
    "    max_depth = csv.best_params_['max_depth']\n",
    "    n_estimators = csv.best_params_['n_estimators']\n",
    "    final_model = ExtraTreesRegressor(n_estimators=n_estimators, max_depth=max_depth)\n",
    "    final_model.fit(x_train, y_train)\n",
    "    y_pred = final_model.predict(x_test)\n",
    "    print(\"Test R^2: \", final_model.score(x_test, y_test))\n",
    "    model_results = {'True Label': y_test, 'Predicted Label': y_pred}\n",
    "    results_df = pd.DataFrame(data=model_results)\n",
    "    print(results_df)\n",
    "\n",
    "\n",
    "ModelTest('likes', 0.2)\n",
    "ModelTest('views', 0.2)\n",
    "ModelTest('comment_count', 0.2)"
   ]
  },
  {
   "cell_type": "markdown",
   "id": "enclosed-horse",
   "metadata": {},
   "source": [
    "## Very Accurate!\n",
    "\n",
    "In summary:\n",
    "1. Likes -> r2 = 0.921\n",
    "2. Views -> r2 = 0.981\n",
    "3. Comments -> r2 = 0.783\n",
    "\n",
    "So, we can conclude that views and likes are the easiest features to predict, while comment counts are much harder to predict."
   ]
  }
 ],
 "metadata": {
  "kernelspec": {
   "display_name": "Python 3",
   "language": "python",
   "name": "python3"
  },
  "language_info": {
   "codemirror_mode": {
    "name": "ipython",
    "version": 3
   },
   "file_extension": ".py",
   "mimetype": "text/x-python",
   "name": "python",
   "nbconvert_exporter": "python",
   "pygments_lexer": "ipython3",
   "version": "3.9.0"
  }
 },
 "nbformat": 4,
 "nbformat_minor": 5
}
